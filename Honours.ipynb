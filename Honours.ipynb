{
 "cells": [
  {
   "attachments": {
    "download.jpg": {
     "image/jpeg": "[encoded data removed]"
    }
   },
   "cell_type": "markdown",
   "metadata": {},
   "source": [
    "# Honours Project\n",
    "\n",
    "***\n",
    "### Implementing and evaluating different machine learning algorithms to detect credit card fraud by means of anomaly detection.\n",
    "\n",
    "![download.jpg](attachment:download.jpg)\n",
    "\n",
    "***\n",
    "This project will be devided into 4 sections. \n",
    "\n",
    "1) Importing and visualising the raw data.\n",
    "\n",
    "2) Pre-processing the data.\n",
    "\n",
    "3) Implementing and evaluating the algorthims.\n",
    "\n",
    "4) Visualising and comparing results. \n"
   ]
  },
  {
   "cell_type": "code",
   "execution_count": 2,
   "metadata": {},
   "outputs": [
    {
     "name": "stdout",
     "output_type": "stream",
     "text": [
      "Python: 3.6.8 |Anaconda, Inc.| (default, Dec 30 2018, 18:50:55) [MSC v.1915 64 bit (AMD64)]\n",
      "Numpy: 1.14.3\n",
      "Pandas: 0.23.4\n",
      "Matplotlib: 2.2.2\n",
      "Seaborn: 0.9.0\n",
      "Scipy: 1.1.0\n"
     ]
    }
   ],
   "source": [
    "#Importing all neccessary libraries/packages and displaying current versions in use. \n",
    "import sys\n",
    "import numpy as np\n",
    "import pandas as pd\n",
    "import matplotlib\n",
    "import seaborn as sns\n",
    "import scipy\n",
    "import matplotlib.pyplot as plt\n",
    "print('Python: {}'.format(sys.version))\n",
    "print('Numpy: {}'.format(np.__version__))\n",
    "print('Pandas: {}'.format(pd.__version__))\n",
    "print('Matplotlib: {}'.format(matplotlib.__version__))\n",
    "print('Seaborn: {}'.format(sns.__version__))\n",
    "print('Scipy: {}'.format(scipy.__version__))"
   ]
  },
  {
   "cell_type": "markdown",
   "metadata": {},
   "source": [
    "## Data Visualisation\n",
    "-  Locating the directory of the credit card csv and reading the file. \n",
    "-  The following cells will open the data set and look at its contents. \n",
    "-  The data set has far too many rows so a small percentage will be looked at.\n",
    "**NOTE**  The columns labelled v1-v28 is pre processed data so personal user data is hidden. \n",
    "\n",
    "`The dataset has been collected and analysed during a research collaboration of Worldline and the Machine Learning Group (http://mlg.ulb.ac.be) of ULB (Université Libre de Bruxelles) on big data mining and fraud detection. More details on current and past projects on related topics are available on http://mlg.ulb.ac.be/BruFence and http://mlg.ulb.ac.be/ARTML\n",
    "THis project drew isnispration from the dataset and users such as Rajkiran Gaddati,LCT14558, joparga3, Pavan Sanagapati `"
   ]
  },
  {
   "cell_type": "code",
   "execution_count": null,
   "metadata": {},
   "outputs": [],
   "source": [
    "#Read csv file and print all columns.  \n",
    "#show what information the data set contains and number of valid & fraud.\n",
    "data = pd.read_csv('C:\\\\Users\\\\alexa\\\\Desktop\\\\4th Year\\\\Honours\\\\Credit Card Fraud\\\\creditcardfraud\\\\creditcard.csv')\n",
    "print(data.columns)\n",
    "\n",
    "print('Fraud Cases: {}'.format(len(data[data['Class'] == 1])))\n",
    "print('Valid Transactions: {}'.format(len(data[data['Class'] == 0])))\n"
   ]
  },
  {
   "cell_type": "code",
   "execution_count": null,
   "metadata": {},
   "outputs": [],
   "source": [
    "# Taking a random 10% of the datasets's rows and showing the data they contain. \n",
    "#data = data.sample(frac=0.5, random_state = 42) #creates smaller workable data set.\n",
    "print(data.shape)\n",
    "print(data.describe())\n",
    "#data doesnt make much sense at the moment. "
   ]
  },
  {
   "cell_type": "markdown",
   "metadata": {},
   "source": [
    "# Implement histograms to show distribution of data of all columns"
   ]
  },
  {
   "cell_type": "code",
   "execution_count": null,
   "metadata": {},
   "outputs": [],
   "source": [
    "# Plot histograms of each parameter, shows the distrubtion of transactions for each column. V1-V28 centrred around 0. \n",
    "data.hist(figsize = (20, 20), color = \"green\")\n",
    "plt.show()"
   ]
  },
  {
   "cell_type": "code",
   "execution_count": null,
   "metadata": {},
   "outputs": [],
   "source": [
    "# Hist of time variable. \" clear peaks indicating a higher requency of transactions, 2xday-night\"\n",
    "time = data.Time.hist(figsize = (10, 5), color = \"blue\")\n",
    "plt.show(time)\n"
   ]
  },
  {
   "cell_type": "code",
   "execution_count": null,
   "metadata": {},
   "outputs": [],
   "source": [
    "print('Distribution of Fradulent and Valid transactions in the selected workiing set.')\n",
    "print(data['Class'].value_counts()/len(data))\n",
    "\n"
   ]
  },
  {
   "cell_type": "code",
   "execution_count": null,
   "metadata": {},
   "outputs": [],
   "source": [
    "#In this cell we count the number of fraudulent and legitement transactions.\n",
    "#The outlier fraction is fraud/valid. \n",
    "Fraud = data[data['Class'] == 1]\n",
    "Valid = data[data['Class'] == 0]\n",
    "\n",
    "#this is used as the contamination fraction, to tell algorithm how many fraud to predict.\n",
    "outlier_fraction = len(Fraud)/float(len(Valid))\n",
    "print(outlier_fraction)\n",
    "\n",
    "print('Fraud Cases: {}'.format(len(data[data['Class'] == 1])))\n",
    "print('Valid Transactions: {}'.format(len(data[data['Class'] == 0])))"
   ]
  },
  {
   "cell_type": "code",
   "execution_count": null,
   "metadata": {},
   "outputs": [],
   "source": []
  },
  {
   "cell_type": "markdown",
   "metadata": {},
   "source": [
    "# Heatmaps\n",
    "Use heatmaps/correlation matrix to view any correaltion between columns "
   ]
  },
  {
   "cell_type": "code",
   "execution_count": null,
   "metadata": {},
   "outputs": [],
   "source": [
    "# Correlation matrix/heat map. \n",
    "corrmat = data.corr()\n",
    "fig = plt.figure(figsize = (12, 9))\n",
    "mask = np.zeros_like(corrmat)\n",
    "mask[np.triu_indices_from(mask)] = True\n",
    "sns.heatmap(corrmat, square = True, linewidths= .5, mask=mask)\n",
    "plt.show()"
   ]
  },
  {
   "cell_type": "code",
   "execution_count": null,
   "metadata": {},
   "outputs": [],
   "source": [
    "#show correltion between amount and class\n",
    "corr = data.corrwith(data['Class']).reset_index()\n",
    "corr.columns = ['Columns','Correlations']\n",
    "corr = corr.set_index('Columns')\n",
    "corr = corr.sort_values(by=['Correlations'], ascending = False)\n",
    "plt.figure(figsize=(4,15))\n",
    "fig = sns.heatmap(corr, annot=True, fmt=\"g\", )\n",
    "plt.title(\"Correlation Class\")\n",
    "plt.show()"
   ]
  },
  {
   "cell_type": "code",
   "execution_count": null,
   "metadata": {},
   "outputs": [],
   "source": [
    "corr = data.corrwith(data['Amount']).reset_index()\n",
    "corr.columns = ['Columns','Correlations']\n",
    "corr = corr.set_index('Columns')\n",
    "corr = corr.sort_values(by=['Correlations'], ascending = False)\n",
    "plt.figure(figsize=(4,15))\n",
    "fig = sns.heatmap(corr, annot=True, fmt=\"g\", )\n",
    "plt.title(\"Correlation Class\")\n",
    "plt.show()"
   ]
  },
  {
   "cell_type": "markdown",
   "metadata": {},
   "source": [
    "#due to size of dataset, running cell is time consuming. An imagine of results is below.\n",
    "#sns.pairplot(data)\n",
    "from IPython.display import Image\n",
    "PATH = \"D:\\\\alexa\\\\Pictures\\\\\"\n",
    "Image(filename = PATH + \"ww.PNG\", width=600, height=400)"
   ]
  },
  {
   "cell_type": "code",
   "execution_count": null,
   "metadata": {},
   "outputs": [],
   "source": [
    "#plot scatter graphs to show clusters and outliers. \n",
    "data.plot(kind='scatter', x = 'V3', y = 'V15', c=['red'],s=15, edgecolors = 'black')\n",
    "data.plot(kind='scatter', x = 'V11', y = 'V12', c=['green'],s=15, edgecolors = 'black')\n",
    "data.plot(kind='scatter', x = 'V1', y = 'V27', c=['grey'],s=15, edgecolors = 'black')\n"
   ]
  },
  {
   "cell_type": "code",
   "execution_count": null,
   "metadata": {},
   "outputs": [],
   "source": [
    "#At first glance there is clear outliers, but we must check if they are true anomalies. Add a hue of \"class\"\n",
    "df = data\n",
    "sns.lmplot(x = 'V5', y = 'Amount', data=df, fit_reg=False, hue='Class')\n",
    "sns.lmplot(x = 'V3', y = 'V15', data=df, fit_reg=False, hue='Class' )\n",
    "sns.lmplot(x = 'V4', y = 'V19', data=df, fit_reg=False, hue='Class' )\n",
    "sns.lmplot(x = 'V9', y = 'V26', data=df, fit_reg=False, hue='Class' )\n",
    "#as we can see, most anomalies are hidden within the main clusters. \n",
    "#from plot one we can see the fraud amount is always low. the true outliers are indeed valid."
   ]
  },
  {
   "cell_type": "code",
   "execution_count": null,
   "metadata": {},
   "outputs": [],
   "source": [
    "#furhter proving the fraud transactions are a low amount. \n",
    "f, (ax_fraud, ax_valid) = plt.subplots(2, 1, sharex=True)\n",
    "f.suptitle('Amount separated by class')\n",
    "ax_fraud.hist(Fraud.Amount, bins = bins, color = \"orange\")\n",
    "ax_fraud.set_title('Fraud')\n",
    "ax_valid.hist(Valid.Amount, bins = bins)\n",
    "ax_valid.set_title('Valid')\n",
    "plt.xlabel('Amount')\n",
    "plt.ylabel('Number of Transactions')\n",
    "plt.xlim((0, 20000))\n",
    "plt.yscale('log')\n",
    "plt.show();"
   ]
  },
  {
   "cell_type": "code",
   "execution_count": null,
   "metadata": {},
   "outputs": [],
   "source": []
  },
  {
   "cell_type": "code",
   "execution_count": null,
   "metadata": {},
   "outputs": [],
   "source": [
    "#3-D plotting is another sepraqtion method used to visually see anomalies. Once again, all fruad within main cluster\n",
    "from mpl_toolkits.mplot3d import Axes3D\n",
    "\n",
    "x = data.Amount\n",
    "y = data.V4\n",
    "z = data.Class\n",
    "\n",
    "fig = plt.figure()\n",
    "ax =Axes3D(fig)\n",
    "\n",
    "ax.scatter(x, y, z, alpha = 0.5)\n",
    "ax.set_xlabel('X Amount')\n",
    "ax.set_ylabel('Y V4')\n",
    "ax.set_zlabel('Z Class')\n",
    "plt.show()\n"
   ]
  },
  {
   "cell_type": "markdown",
   "metadata": {},
   "source": [
    "# Unupervised machine learning algorithms for anomaly detection\n",
    "Below begins the implementation and evalutation of two unsupervised algorithms.\n",
    "\n",
    ">Local outlier factor\n",
    "\n",
    ">Isolation Forest \n"
   ]
  },
  {
   "cell_type": "code",
   "execution_count": null,
   "metadata": {},
   "outputs": [],
   "source": [
    "#removing the labls for unsupervised and stroing them to compare results against. \n",
    "nolabel = data.columns.tolist()\n",
    "nolabel = [c for c in nolabel if c not in [\"Class\"]]\n",
    "labels = \"Class\"\n",
    "\n",
    "X = data[nolabel]\n",
    "Y = data[labels]\n",
    "\n",
    "# Print shapes to see what X & Y contain. \n",
    "print(X.shape)\n",
    "print(Y.shape)"
   ]
  },
  {
   "cell_type": "code",
   "execution_count": null,
   "metadata": {},
   "outputs": [],
   "source": [
    "#creating a 50/50 test split for X & Y to keep results contstant. \n",
    "from sklearn.model_selection import train_test_split\n",
    "X_train, X_test,Y_train, Y_test = train_test_split(X,Y, test_size=0.5, random_state=42)"
   ]
  },
  {
   "cell_type": "code",
   "execution_count": null,
   "metadata": {},
   "outputs": [],
   "source": [
    "#we can see the test and training are different sizes by one row, this will cause probelms when re-plotting the predicted labels.\n",
    "print(X_test.shape)\n",
    "print(X_train.shape)\n",
    "print(Y_test.shape)\n",
    "print(Y_train.shape)"
   ]
  },
  {
   "cell_type": "code",
   "execution_count": null,
   "metadata": {},
   "outputs": [],
   "source": [
    "#removes row\n",
    "X_test = X_test.iloc[1:,]\n",
    "Y_test = Y_test.iloc[1:,]"
   ]
  },
  {
   "cell_type": "code",
   "execution_count": null,
   "metadata": {},
   "outputs": [],
   "source": [
    "#check to see if equal. \n",
    "print(X_test.shape)\n",
    "print(X_train.shape)\n",
    "print(Y_test.shape)\n",
    "print(Y_train.shape)"
   ]
  },
  {
   "cell_type": "code",
   "execution_count": 3,
   "metadata": {},
   "outputs": [
    {
     "data": {
      "text/plain": [
       "<Figure size 648x504 with 0 Axes>"
      ]
     },
     "metadata": {},
     "output_type": "display_data"
    }
   ],
   "source": [
    "from sklearn.metrics import classification_report, accuracy_score,auc, roc_auc_score,f1_score,roc_curve\n",
    "from sklearn.ensemble import IsolationForest\n",
    "from sklearn.neighbors import LocalOutlierFactor\n",
    "from sklearn.metrics import confusion_matrix\n",
    "from sklearn.svm import OneClassSVM\n",
    "import time\n",
    "\n",
    "# Creating a function that returns results. We call this later\n",
    "plt.figure(figsize=(9, 7))\n",
    "#n_outliers = len(Fraud)\n",
    "\n",
    "def alg_result():\n",
    "    #algorithm output is -1 and 1.Change to binary for preidcted labels\n",
    "    y_pred[y_pred == 1] = 0\n",
    "    y_pred[y_pred == -1] = 1\n",
    "\n",
    "    #number of incorrect labels. Where y_pred does not equal the original label. \n",
    "    n_errors = (y_pred != Y_test).sum()\n",
    "\n",
    "    #create the results and classififation report. \n",
    "    print('{}: {}'.format('Number of errors', n_errors))\n",
    "    print(\"Accuracy score: \",accuracy_score(Y_test, y_pred))\n",
    "    roc = roc_auc_score(Y_test, scores_pred)\n",
    "    print(\"ROC_AUC_Score: \",roc)\n",
    "    print(classification_report(Y_test, y_pred))\n",
    "    "
   ]
  },
  {
   "cell_type": "code",
   "execution_count": null,
   "metadata": {},
   "outputs": [],
   "source": [
    "#create the isolation algorithm, train it on X_train, set fraud prediciton amount(contamination)\n",
    "#contanimation is how it knows how many to predict \n",
    "iso = IsolationForest(max_samples=len(X_train),\n",
    "                                        contamination=outlier_fraction, random_state=1)"
   ]
  },
  {
   "cell_type": "code",
   "execution_count": null,
   "metadata": {},
   "outputs": [],
   "source": [
    "#time to train and test. \n",
    "#start run time\n",
    "start = time. time()\n",
    "scores_pred = - iso.fit(X_train).decision_function(X_test) #\n",
    "y_pred = iso.predict(X_test)\n",
    "alg_result()\n",
    "end = time. time()\n",
    "print(\"Runtime: \",end - start)"
   ]
  },
  {
   "cell_type": "code",
   "execution_count": null,
   "metadata": {},
   "outputs": [],
   "source": [
    "#create roc curve. \n",
    "fpr, tpr, thresholds = roc_curve(Y_test,scores_pred)\n",
    "roc_auc = auc(fpr,tpr)\n",
    "\n",
    "# Plot ROC\n",
    "plt.figure()\n",
    "plt.plot(fpr, tpr, color='darkorange',)\n",
    "plt.plot([0, 1], [0, 1], color='navy', lw=1, linestyle='--')\n",
    "plt.xlim([0.0, 1.0])\n",
    "plt.ylim([0.0, 1.05])\n",
    "plt.xlabel('False Positive Rate')\n",
    "plt.ylabel('True Positive Rate')\n",
    "plt.title('Receiver Operating Characteristic')\n",
    "plt.legend(loc=\"lower right\")\n",
    "plt.show()"
   ]
  },
  {
   "cell_type": "markdown",
   "metadata": {},
   "source": [
    "# Below we compare the original labels to predicted."
   ]
  },
  {
   "cell_type": "code",
   "execution_count": null,
   "metadata": {},
   "outputs": [],
   "source": [
    "#original\n",
    "df = data\n",
    "sns.lmplot(x = 'V9', y = 'V26', data=df, fit_reg=False, hue='Class' )"
   ]
  },
  {
   "cell_type": "code",
   "execution_count": null,
   "metadata": {},
   "outputs": [],
   "source": [
    "#predicted\n",
    "X_test['y_pred']= y_pred\n",
    "df = X_test\n",
    "sns.lmplot(x = 'V9', y = 'V26', data=df, fit_reg=False,hue='y_pred' )"
   ]
  },
  {
   "cell_type": "markdown",
   "metadata": {},
   "source": [
    "# Local outlier factor"
   ]
  },
  {
   "cell_type": "code",
   "execution_count": null,
   "metadata": {},
   "outputs": [],
   "source": [
    "#initialize algorithm \n",
    "lof = LocalOutlierFactor(\n",
    "        n_neighbors=10,\n",
    "        contamination=outlier_fraction)\n"
   ]
  },
  {
   "cell_type": "code",
   "execution_count": null,
   "metadata": {},
   "outputs": [],
   "source": [
    "#train and test\n",
    "start = time. time()\n",
    "y_pred = lof.fit_predict(X_test)\n",
    "scores_pred = -lof.negative_outlier_factor_ \n",
    "alg_result()\n",
    "end = time. time()\n",
    "print(\"Runtime: \",end - start)"
   ]
  },
  {
   "cell_type": "code",
   "execution_count": null,
   "metadata": {},
   "outputs": [],
   "source": [
    "# once again create roc curve. \n",
    "fpr, tpr, thresholds = roc_curve(Y_test,scores_pred)\n",
    "roc_auc = auc(fpr,tpr)\n",
    "\n",
    "# Plot ROC\n",
    "plt.figure()\n",
    "plt.plot(fpr, tpr, color='darkorange',)\n",
    "plt.plot([0, 1], [0, 1], color='navy', lw=1, linestyle='--')\n",
    "plt.xlim([0.0, 1.0])\n",
    "plt.ylim([0.0, 1.05])\n",
    "plt.xlabel('False Positive Rate')\n",
    "plt.ylabel('True Positive Rate')\n",
    "plt.title('Receiver Operating Characteristic')\n",
    "plt.legend(loc=\"lower right\")\n",
    "plt.show()"
   ]
  },
  {
   "cell_type": "code",
   "execution_count": null,
   "metadata": {},
   "outputs": [],
   "source": [
    "#original\n",
    "df = data\n",
    "sns.lmplot(x = 'V9', y = 'V26', data=df, fit_reg=False, hue='Class' )"
   ]
  },
  {
   "cell_type": "code",
   "execution_count": null,
   "metadata": {},
   "outputs": [],
   "source": [
    "#predicted\n",
    "X_test['y_pred']= y_pred\n",
    "df = X_test\n",
    "sns.lmplot(x = 'V9', y = 'V26', data=df, fit_reg=False,hue='y_pred' )"
   ]
  },
  {
   "cell_type": "markdown",
   "metadata": {},
   "source": [
    "# Semi-Supervised OC-SVM"
   ]
  },
  {
   "cell_type": "code",
   "execution_count": null,
   "metadata": {},
   "outputs": [],
   "source": [
    "data2 = pd.read_csv('C:\\\\Users\\\\alexa\\\\Desktop\\\\4th Year\\\\Honours\\\\Credit Card Fraud\\\\creditcardfraud\\\\creditcard.csv')\n",
    "print(data2.columns)"
   ]
  },
  {
   "cell_type": "code",
   "execution_count": null,
   "metadata": {},
   "outputs": [],
   "source": [
    "X_train, X_test, = train_test_split(data2, test_size=0.5, random_state=42)"
   ]
  },
  {
   "cell_type": "code",
   "execution_count": null,
   "metadata": {},
   "outputs": [],
   "source": [
    "print(X_train.shape)\n",
    "print(X_test.shape)"
   ]
  },
  {
   "cell_type": "code",
   "execution_count": null,
   "metadata": {},
   "outputs": [],
   "source": [
    "X_test = X_test.iloc[1:,]"
   ]
  },
  {
   "cell_type": "code",
   "execution_count": null,
   "metadata": {},
   "outputs": [],
   "source": [
    "nor_obs = X_train.loc[X_train.Class==0]    #Data frame with normal observation\n",
    "ano_obs = X_train.loc[X_train.Class==1] "
   ]
  },
  {
   "cell_type": "code",
   "execution_count": null,
   "metadata": {},
   "outputs": [],
   "source": [
    "#X_train = X_train.drop('Class', 1)\n",
    "X_test = X_test.drop('Class', 1)"
   ]
  },
  {
   "cell_type": "code",
   "execution_count": null,
   "metadata": {},
   "outputs": [],
   "source": [
    "\n",
    "plt.figure(figsize=(9, 7))\n",
    "\n",
    "def alg_result2():\n",
    "    y_pred[y_pred == 1] = 0\n",
    "    y_pred[y_pred == -1] = 1\n",
    "\n",
    "    n_errors = (y_pred != Y_test).sum()\n",
    "\n",
    "    # Run classification metrics\n",
    "    \n",
    "    print('{}: {}'.format('Number of errors', n_errors))\n",
    "    print(\"Accuracy score: \",accuracy_score(Y_test, y_pred))\n",
    "    #roc = roc_auc_score(Y_test, scores_pred)\n",
    "    #print(\"ROC_AUC_Score: \",roc)\n",
    "    print(classification_report(Y_test, y_pred))"
   ]
  },
  {
   "cell_type": "code",
   "execution_count": null,
   "metadata": {},
   "outputs": [],
   "source": [
    "from sklearn import svm\n",
    "# Setting the parameters for Once Class SVM\n",
    "\n",
    "oneclass = svm.OneClassSVM(kernel='linear', gamma=0.001, nu=0.95)"
   ]
  },
  {
   "cell_type": "code",
   "execution_count": null,
   "metadata": {},
   "outputs": [],
   "source": [
    "oneclass.fit(X_train)"
   ]
  },
  {
   "cell_type": "code",
   "execution_count": null,
   "metadata": {},
   "outputs": [],
   "source": [
    "y_pred = oneclass.predict(X_test)\n",
    "alg_result2()"
   ]
  },
  {
   "cell_type": "code",
   "execution_count": null,
   "metadata": {},
   "outputs": [],
   "source": [
    "X_test['Y_test']= Y_test\n",
    "df = X_test\n",
    "sns.lmplot(x = 'V9', y = 'V26', data=df, fit_reg=False, hue='Y_test' )"
   ]
  },
  {
   "cell_type": "code",
   "execution_count": null,
   "metadata": {},
   "outputs": [],
   "source": [
    "X_test['Y_pred']= y_pred\n",
    "df = X_test\n",
    "sns.lmplot(x = 'V9', y = 'V26', data=df, fit_reg=False, hue='Y_pred' )"
   ]
  },
  {
   "cell_type": "markdown",
   "metadata": {},
   "source": [
    "# Supervised Random Forest"
   ]
  },
  {
   "cell_type": "code",
   "execution_count": 4,
   "metadata": {},
   "outputs": [
    {
     "name": "stdout",
     "output_type": "stream",
     "text": [
      "Index(['Time', 'V1', 'V2', 'V3', 'V4', 'V5', 'V6', 'V7', 'V8', 'V9', 'V10',\n",
      "       'V11', 'V12', 'V13', 'V14', 'V15', 'V16', 'V17', 'V18', 'V19', 'V20',\n",
      "       'V21', 'V22', 'V23', 'V24', 'V25', 'V26', 'V27', 'V28', 'Amount',\n",
      "       'Class'],\n",
      "      dtype='object')\n"
     ]
    }
   ],
   "source": [
    "data3 = pd.read_csv('C:\\\\Users\\\\alexa\\\\Desktop\\\\4th Year\\\\Honours\\\\Credit Card Fraud\\\\creditcardfraud\\\\creditcard.csv')\n",
    "print(data3.columns)"
   ]
  },
  {
   "cell_type": "code",
   "execution_count": 7,
   "metadata": {},
   "outputs": [
    {
     "name": "stdout",
     "output_type": "stream",
     "text": [
      "(284807, 30)\n",
      "(284807,)\n"
     ]
    }
   ],
   "source": [
    "#removing the labls for unsupervised and stroing them to compare results against. \n",
    "nolabel = data3.columns.tolist()\n",
    "nolabel = [c for c in nolabel if c not in [\"Class\"]]\n",
    "labels = \"Class\"\n",
    "\n",
    "X = data3[nolabel]\n",
    "Y = data3[labels]\n",
    "\n",
    "# Print shapes to see what X & Y contain. \n",
    "print(X.shape)\n",
    "print(Y.shape)"
   ]
  },
  {
   "cell_type": "code",
   "execution_count": 9,
   "metadata": {},
   "outputs": [],
   "source": [
    "from sklearn.model_selection import train_test_split\n",
    "X_train, X_test,Y_train, Y_test = train_test_split(X,Y, test_size=0.5, random_state=42)"
   ]
  },
  {
   "cell_type": "code",
   "execution_count": 10,
   "metadata": {},
   "outputs": [],
   "source": [
    "X_test = X_test.iloc[1:,]\n",
    "Y_test = Y_test.iloc[1:,]"
   ]
  },
  {
   "cell_type": "code",
   "execution_count": 13,
   "metadata": {},
   "outputs": [
    {
     "data": {
      "text/plain": [
       "<Figure size 648x504 with 0 Axes>"
      ]
     },
     "metadata": {},
     "output_type": "display_data"
    }
   ],
   "source": [
    "from sklearn.ensemble import RandomForestClassifier\n",
    "plt.figure(figsize=(9, 7))\n",
    "\n",
    "def alg_result3():\n",
    "\n",
    "    n_errors = (y_pred != Y_test).sum()\n",
    "\n",
    "    # Run classification metrics\n",
    "    \n",
    "    print('{}: {}'.format('Number of errors', n_errors))\n",
    "    print(\"Accuracy score: \",accuracy_score(Y_test, y_pred))\n",
    "    #roc = roc_auc_score(Y_test, scores_pred)\n",
    "    #print(\"ROC_AUC_Score: \",roc)\n",
    "    print(classification_report(Y_test, y_pred))\n",
    "    "
   ]
  },
  {
   "cell_type": "code",
   "execution_count": 14,
   "metadata": {},
   "outputs": [],
   "source": [
    "rf = RandomForestClassifier(max_depth=20, random_state=42)"
   ]
  },
  {
   "cell_type": "code",
   "execution_count": 16,
   "metadata": {},
   "outputs": [
    {
     "name": "stdout",
     "output_type": "stream",
     "text": [
      "Number of errors: 78\n",
      "Accuracy score:  0.9994522587305043\n",
      "             precision    recall  f1-score   support\n",
      "\n",
      "          0       1.00      1.00      1.00    142158\n",
      "          1       0.93      0.73      0.82       245\n",
      "\n",
      "avg / total       1.00      1.00      1.00    142403\n",
      "\n",
      "Runtime:  7.131901979446411\n"
     ]
    }
   ],
   "source": [
    "start = time. time()\n",
    "rf.fit(X_train, Y_train)\n",
    "y_pred = rf.predict(X_test)\n",
    "#scores_pred = rf.predict_proba(X_test)\n",
    "alg_result3()\n",
    "end = time. time()\n",
    "print(\"Runtime: \",end - start)"
   ]
  },
  {
   "cell_type": "code",
   "execution_count": 17,
   "metadata": {},
   "outputs": [
    {
     "data": {
      "text/plain": [
       "<seaborn.axisgrid.FacetGrid at 0x1daad634be0>"
      ]
     },
     "execution_count": 17,
     "metadata": {},
     "output_type": "execute_result"
    },
    {
     "data": {
      "image/png": "[encoded data removed]",
      "text/plain": [
       "<Figure size 402.375x360 with 1 Axes>"
      ]
     },
     "metadata": {
      "needs_background": "light"
     },
     "output_type": "display_data"
    }
   ],
   "source": [
    "X_test['Y_test']= Y_test\n",
    "df = X_test\n",
    "sns.lmplot(x = 'V9', y = 'V26', data=df, fit_reg=False, hue='Y_test' )\n"
   ]
  },
  {
   "cell_type": "code",
   "execution_count": 18,
   "metadata": {},
   "outputs": [
    {
     "data": {
      "text/plain": [
       "<seaborn.axisgrid.FacetGrid at 0x1dab5537748>"
      ]
     },
     "execution_count": 18,
     "metadata": {},
     "output_type": "execute_result"
    },
    {
     "data": {
      "image/png": "[encoded data removed]",
      "text/plain": [
       "<Figure size 402.375x360 with 1 Axes>"
      ]
     },
     "metadata": {
      "needs_background": "light"
     },
     "output_type": "display_data"
    }
   ],
   "source": [
    "X_test['Y_pred']= y_pred\n",
    "df = X_test\n",
    "sns.lmplot(x = 'V9', y = 'V26', data=df, fit_reg=False, hue='Y_pred' )"
   ]
  },
  {
   "cell_type": "code",
   "execution_count": null,
   "metadata": {},
   "outputs": [],
   "source": []
  }
 ],
 "metadata": {
  "kernelspec": {
   "display_name": "Python 3",
   "language": "python",
   "name": "python3"
  },
  "language_info": {
   "codemirror_mode": {
    "name": "ipython",
    "version": 3
   },
   "file_extension": ".py",
   "mimetype": "text/x-python",
   "name": "python",
   "nbconvert_exporter": "python",
   "pygments_lexer": "ipython3",
   "version": "3.6.8"
  }
 },
 "nbformat": 4,
 "nbformat_minor": 2
}
